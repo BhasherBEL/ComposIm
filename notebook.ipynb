{
 "cells": [
  {
   "cell_type": "code",
   "execution_count": 261,
   "metadata": {
    "collapsed": true
   },
   "outputs": [],
   "source": [
    "from PIL import Image\n",
    "import os\n",
    "import numpy as np"
   ]
  },
  {
   "cell_type": "code",
   "execution_count": 300,
   "metadata": {},
   "outputs": [],
   "source": [
    "DIR_SRC = \"/home/bhasher/Desktop/OYG\"\n",
    "MASTER_NAME = \"0-02-05_full.jpg\"\n",
    "MASTER_SIZE = 70\n",
    "SMALL_SIZE = 50"
   ]
  },
  {
   "cell_type": "code",
   "execution_count": 283,
   "metadata": {},
   "outputs": [],
   "source": [
    "images_sources = os.listdir(DIR_SRC)"
   ]
  },
  {
   "cell_type": "code",
   "execution_count": 284,
   "metadata": {
    "collapsed": true
   },
   "outputs": [],
   "source": [
    "images_mean = {}\n",
    "images = {}\n",
    "for i in range(len(images_sources)):\n",
    "\timage = Image.open(DIR_SRC + \"/\" + images_sources[i]).resize((SMALL_SIZE, SMALL_SIZE))\n",
    "\timages[i] = image\n",
    "\timages_mean[i] = np.array(image.getdata()).mean(axis=0).astype(dtype=int)"
   ]
  },
  {
   "cell_type": "code",
   "execution_count": 301,
   "metadata": {},
   "outputs": [],
   "source": [
    "master_image = Image.open(DIR_SRC + \"/\" + MASTER_NAME)"
   ]
  },
  {
   "cell_type": "code",
   "execution_count": 302,
   "metadata": {},
   "outputs": [],
   "source": [
    "master_data = np.array(master_image.resize((MASTER_SIZE, MASTER_SIZE)).getdata())"
   ]
  },
  {
   "cell_type": "code",
   "execution_count": 303,
   "metadata": {},
   "outputs": [],
   "source": [
    "according = {}\n",
    "for i in range(len(master_data)):\n",
    "\taccording[i] = 0\n",
    "\tbest_value = 195075\n",
    "\tfor j in range(len(images_mean)):\n",
    "\t\tif ((master_data[i]-images_mean[j])**2).sum() < best_value:\n",
    "\t\t\tbest_value = ((master_data[i]-images_mean[j])**2).sum()\n",
    "\t\t\taccording[i] = j"
   ]
  },
  {
   "cell_type": "code",
   "execution_count": 304,
   "metadata": {},
   "outputs": [],
   "source": [
    "corespondance = np.array(list(according.values())).reshape(MASTER_SIZE, MASTER_SIZE)"
   ]
  },
  {
   "cell_type": "code",
   "execution_count": 305,
   "metadata": {},
   "outputs": [],
   "source": [
    "final_image = Image.new('RGB', (MASTER_SIZE*SMALL_SIZE, MASTER_SIZE*SMALL_SIZE), (255, 255, 255))"
   ]
  },
  {
   "cell_type": "code",
   "execution_count": 306,
   "metadata": {},
   "outputs": [],
   "source": [
    "for i in range(len(corespondance)):\n",
    "\tfor j in range(len(corespondance[0])):\n",
    "\t\tfinal_image.paste(images[corespondance[i][j]], (j*SMALL_SIZE, i*SMALL_SIZE))"
   ]
  },
  {
   "cell_type": "code",
   "execution_count": 307,
   "metadata": {},
   "outputs": [],
   "source": [
    "final_image.save(\"/home/bhasher/Desktop/test.jpg\", format=\"jpeg\")\n",
    "#0827"
   ]
  }
 ],
 "metadata": {
  "kernelspec": {
   "display_name": "Python 2",
   "language": "python",
   "name": "python2"
  },
  "language_info": {
   "codemirror_mode": {
    "name": "ipython",
    "version": 2
   },
   "file_extension": ".py",
   "mimetype": "text/x-python",
   "name": "python",
   "nbconvert_exporter": "python",
   "pygments_lexer": "ipython2",
   "version": "2.7.6"
  }
 },
 "nbformat": 4,
 "nbformat_minor": 0
}
